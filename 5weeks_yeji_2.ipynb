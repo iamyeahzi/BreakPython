{
 "cells": [
  {
   "cell_type": "markdown",
   "id": "8ea2f8a3-f203-44f6-96dd-7f95937393f9",
   "metadata": {},
   "source": [
    "# - <b>데이터프레임 ( 판다스 )"
   ]
  },
  {
   "cell_type": "markdown",
   "id": "0eae99a3-f8d1-4992-adf1-1f302b01f25a",
   "metadata": {
    "tags": []
   },
   "source": [
    "> ### 1. corona.xlsx 파일엔 1월20일 부터 1월30일까지의 중국과 타국에서의 COVID19 확진자 추이가 담겨있다."
   ]
  },
  {
   "cell_type": "markdown",
   "id": "8e724169-06f0-4194-a515-9d92d8fd5874",
   "metadata": {},
   "source": [
    "* <b> 이 엑셀을 pandas.DataFrame으로 불러온 뒤 '한국' column을 만들어서 다음의 데이터를 추가하고 covid19.csv로 저장하기"
   ]
  },
  {
   "cell_type": "code",
   "execution_count": 2,
   "id": "ca090754-80c7-49c0-95f5-a21900ffc8ec",
   "metadata": {},
   "outputs": [],
   "source": [
    "# 판다스 모듈 import\n",
    "import pandas as pd\n",
    "\n",
    "# file = read_excel() 함수로 엑셀파일을 불러와 저장한 변수\n",
    "file = pd.read_excel(\"C:/Users/user/Desktop/파뿌리/5주차QUEST_데이터셋/corona.xlsx\", index_col=0)\n",
    "\n",
    "# df = 불러온 엑셀 파일을 dataframe 형태로 변환하여 저장한 변수\n",
    "df = pd.DataFrame(file)\n",
    "\n",
    "# insert() 함수를 이용하여, 새로운 열 추가\n",
    "df.insert(2, \"한국\" , [1,1,2,3,4,7])\n",
    "\n",
    "# df.to_csv(새파일명) = 열을 추가한 dataframe을 새파일명( corona19.csv )으로 저장\n",
    "# index = None\n",
    "df.to_csv(\"C:/Users/user/Desktop/파뿌리/5주차QUEST_데이터셋/corona19.csv\",  encoding='utf-8-sig')"
   ]
  },
  {
   "cell_type": "markdown",
   "id": "656f352d-5392-4479-827c-e218bf27080e",
   "metadata": {},
   "source": [
    "- <b> covid19.csv를 불러와서 원본 데이터는 sheet1에, 중국 데이터는 sheet2에, 타국 데이터는 sheet3에, 한국 데이터는 sheet4에 저장하고 covid19_new.xlsx로 저장하기"
   ]
  },
  {
   "cell_type": "code",
   "execution_count": 6,
   "id": "2b58c5b2-4019-4be8-926b-25f854405e09",
   "metadata": {},
   "outputs": [],
   "source": [
    "# 판다스 모듈 import\n",
    "import pandas as pd\n",
    "\n",
    "# file = read_csv() 함수로 엑셀파일을 불러와 저장한 변수\n",
    "file = pd.read_csv(\"C:/Users/user/Desktop/파뿌리/5주차QUEST_데이터셋/corona19.csv\")\n",
    "\n",
    "# ori_df = 불러온 엑셀 파일을 dataframe 형태로 변환하여 저장\n",
    "ori_df = pd.DataFrame(file)\n",
    "\n",
    "# df_china = ori_df(원본 데이터)에서 날짜와 중국 데이터만 추출\n",
    "# df_foreign =           \"         날짜와 타국 데이터만 추출\n",
    "# df_kor =               \"         날짜와 한국 데이터만 추출\n",
    "df_china = ori_df.loc[:,['날짜','중국']]\n",
    "df_foreign = ori_df.loc[:,['날짜','타국']]\n",
    "df_kor = ori_df.loc[:,['날짜','한국']]\n",
    "\n",
    "\n",
    "# set_index() = index cloumn을 날짜로 고정\n",
    "ori_df = ori_df.set_index('날짜')\n",
    "df_china = df_china.set_index('날짜')\n",
    "df_foreign = df_foreign.set_index('날짜')\n",
    "df_kor = df_kor.set_index('날짜')\n",
    "\n",
    "\n",
    "# writer = ExcelWriter() 함수로 corona19_new.xlsx 엑셀파일을 생성\n",
    "writer = pd.ExcelWriter(\"C:/Users/user/Desktop/파뿌리/5주차QUEST_데이터셋/corona19_new.xlsx\")\n",
    "\n",
    "# Sheet1 = 원본 데이터 저장\n",
    "ori_df.to_excel(writer, sheet_name=\"Sheet1\")\n",
    "\n",
    "# Sheet2 = 중국 데이터 저장\n",
    "df_china.to_excel(writer, sheet_name=\"Sheet2\")\n",
    "\n",
    "# Sheet3 = 타국 데이터 저장\n",
    "df_foreign.to_excel(writer, sheet_name=\"Sheet3\")\n",
    "\n",
    "# Sheet4 = 한국 데이터 저장\n",
    "df_kor.to_excel(writer, sheet_name=\"Sheet4\")\n",
    "\n",
    "# 변경내용 저장\n",
    "writer.save()"
   ]
  },
  {
   "cell_type": "markdown",
   "id": "e8ce2bac-ea4b-4556-a36c-9ecc668e7ee3",
   "metadata": {},
   "source": [
    "<br>"
   ]
  },
  {
   "cell_type": "markdown",
   "id": "8b7c1865-1cc3-40ea-aa80-beb32065b5b4",
   "metadata": {},
   "source": [
    "> ### 2. auto-mpg.csv 파일은 자동차의 연비에 대한 데이터 파일이다."
   ]
  },
  {
   "cell_type": "markdown",
   "id": "d4fb0868-8bd3-4ccb-b4fc-edc78b553266",
   "metadata": {},
   "source": [
    "- <b> 다음에 맞추어서 해당 데이터셋에 columns name을 설정하고, auto-mpg-2.csv로 저장하기"
   ]
  },
  {
   "cell_type": "code",
   "execution_count": 209,
   "id": "a7b70574-d3ee-45a6-af7b-8f5820397cbd",
   "metadata": {},
   "outputs": [],
   "source": [
    "# 판다스 모듈 import\n",
    "import pandas as pd\n",
    "\n",
    "# df = auto-mpg.csv 파일을 불러와서 저장한 변수 // # header=None !!!!\n",
    "df = pd.read_csv(\"C:/Users/user/Desktop/파뿌리/5주차QUEST_데이터셋/auto-mpg.csv\")\n",
    "\n",
    "# 첫번째 행에 colums name 삽입(헤더)\n",
    "df.columns = ['mpg(연비)','cylinders(실린더수)','displacement(배기량)', 'horsepower(출력)','weight(차중)', 'acceleration(가속능력)', 'modelYear(출시년도)', 'originNumber(제조국번호)','name(모델명)' ]\n",
    "\n",
    "# 변경된 df를 auto-mpg-2.csv 파일로 저장\n",
    "df.to_csv(\"C:/Users/user/Desktop/파뿌리/5주차QUEST_데이터셋/auto-mpg-2.csv\", encoding='utf-8-sig', index=False)\n"
   ]
  },
  {
   "cell_type": "markdown",
   "id": "f9670ea9-a9e1-4936-898c-8e61cc0ff377",
   "metadata": {},
   "source": [
    "- <b> 80년대에 생산된 모델의 모델명만을 출력하라"
   ]
  },
  {
   "cell_type": "code",
   "execution_count": 204,
   "id": "d6d4a15e-a45f-441b-9546-0ede0e752b1a",
   "metadata": {},
   "outputs": [
    {
     "name": "stdout",
     "output_type": "stream",
     "text": [
      "308                 vw rabbit\n",
      "309     toyota corolla tercel\n",
      "310        chevrolet chevette\n",
      "311                datsun 310\n",
      "312        chevrolet citation\n",
      "313             ford fairmont\n",
      "314               amc concord\n",
      "315               dodge aspen\n",
      "316                 audi 4000\n",
      "317    toyota corona liftback\n",
      "318                 mazda 626\n",
      "319      datsun 510 hatchback\n",
      "320            toyota corolla\n",
      "321                 mazda glc\n",
      "322                dodge colt\n",
      "323                datsun 210\n",
      "324      vw rabbit c (diesel)\n",
      "325        vw dasher (diesel)\n",
      "326       audi 5000s (diesel)\n",
      "327        mercedes-benz 240d\n",
      "328       honda civic 1500 gl\n",
      "329      renault lecar deluxe\n",
      "330                 subaru dl\n",
      "331          vokswagen rabbit\n",
      "332             datsun 280-zx\n",
      "333             mazda rx-7 gs\n",
      "334         triumph tr7 coupe\n",
      "335        ford mustang cobra\n",
      "336              honda accord\n",
      "Name: name(모델명), dtype: object\n"
     ]
    }
   ],
   "source": [
    "# 판다스 모듈 import\n",
    "import pandas as pd\n",
    "\n",
    "# df = auto-mpg-2.csv 파일을 불러와서 저장한 변수\n",
    "df = pd.read_csv(\"C:/Users/user/Desktop/파뿌리/5주차QUEST_데이터셋/auto-mpg-2.csv\")\n",
    "\n",
    "# model_80 = 칼럼 중 출시년도가 80인 데이터를 추출하기 위한 조건 \n",
    "model_80 = df['modelYear(출시년도)'] == 80\n",
    "\n",
    "# new_df = 조건을 만족하는 데이터를 저장하는 변수\n",
    "new_df = df[model_80]\n",
    "\n",
    "# 조건을 만족하는 new_df 중 모델명만을 출력\n",
    "print(new_df['name(모델명)'])"
   ]
  },
  {
   "cell_type": "markdown",
   "id": "60d14d34-3def-44ae-9bc3-0dc22e158d91",
   "metadata": {},
   "source": [
    "<br>"
   ]
  },
  {
   "cell_type": "markdown",
   "id": "055cf56e-0671-467c-9b6d-3fdd9715ec6d",
   "metadata": {},
   "source": [
    "- <b> mpg(연비)와 horsepower(출력) 열의 표준편차값을 구하라"
   ]
  },
  {
   "cell_type": "code",
   "execution_count": 255,
   "id": "80fc88c4-97cc-4708-b64f-15974c6936f8",
   "metadata": {},
   "outputs": [
    {
     "name": "stderr",
     "output_type": "stream",
     "text": [
      "C:\\Users\\user\\anaconda3\\envs\\data\\lib\\site-packages\\ipykernel_launcher.py:8: FutureWarning: Dropping of nuisance columns in DataFrame reductions (with 'numeric_only=None') is deprecated; in a future version this will raise TypeError.  Select only valid columns before calling the reduction.\n",
      "  \n"
     ]
    },
    {
     "data": {
      "text/plain": [
       "mpg(연비)    7.820926\n",
       "dtype: float64"
      ]
     },
     "execution_count": 255,
     "metadata": {},
     "output_type": "execute_result"
    }
   ],
   "source": [
    "# 판다스 모듈 import\n",
    "import pandas as pd\n",
    "\n",
    "# df = auto-mpg-2.csv 파일을 불러와서 저장한 변수\n",
    "df = pd.read_csv(\"C:/Users/user/Desktop/파뿌리/5주차QUEST_데이터셋/auto-mpg-2.csv\")\n",
    "\n",
    "# std() 함수 = 해당 칼럼 값의 표준편차를 연산\n",
    "df[[\"mpg(연비)\",\"horsepower(출력)\"]].std()"
   ]
  },
  {
   "cell_type": "markdown",
   "id": "f4a2e2ba-5029-4590-9e8f-26d750911e10",
   "metadata": {},
   "source": [
    "> (질문입니다 !)\n",
    "<br> horsepower(출력) 열의 표준 편차 값을 구하는데 있어 자꾸 위의 에러가 났습니다.\n",
    "auto-mpg.csv 파일을 보니 horsepower(출력) 값에 '?' 값이 있어 type 에러가 나는 것으로 생각되었습니다. \n",
    "찾아보니 std() 함수의 인자로 nueric_only=True 값을 설정하면 float, int, bool 값으로만 연산이 된다고 하는데, 이 방법또한 오류가 났고 \n",
    "오류 메시지에 (with 'numeric_only=None') is deprecated, 즉 numeric_only 인자가 더이상 사용되지 않는다고 말하고 있어 해결을 하지 못했습니다ㅠㅠ\n"
   ]
  },
  {
   "cell_type": "markdown",
   "id": "647336e4-15de-43d2-a62e-a18a34583af1",
   "metadata": {},
   "source": [
    "- <b> horsepower(출력) 열의 표준편차는 구할 수 없다. 이유를 서술하라."
   ]
  },
  {
   "cell_type": "markdown",
   "id": "aa268331-23cc-4e26-96bb-4b31be8657b7",
   "metadata": {},
   "source": [
    "> 위에 주석을 달고 이 문제를 확인했습니다.. csv 파일 내의 horsepower(출력) 칼럼의 값 중 float, int 값이 아닌 '?'(문자) 값이 있어서 그런 것 같습니다."
   ]
  },
  {
   "cell_type": "markdown",
   "id": "58264bb0-8ae6-4ca2-b4df-22ecb05970a9",
   "metadata": {},
   "source": [
    "- <b> modelYear(출시년도)를 최신순에 따라 데이터를 정렬해서 auto-mpg-3.csv로 저장하라"
   ]
  },
  {
   "cell_type": "code",
   "execution_count": 285,
   "id": "e248d7b1-f416-4a44-8251-2ad0e2dbb6d5",
   "metadata": {},
   "outputs": [],
   "source": [
    "# 판다스 모듈 import\n",
    "import pandas as pd\n",
    "\n",
    "# df = auto-mpg-2.csv 파일을 불러와서 저장한 변수\n",
    "df = pd.read_csv(\"C:/Users/user/Desktop/파뿌리/5주차QUEST_데이터셋/auto-mpg-2.csv\")\n",
    "\n",
    "# df2 = modelYear(출시년도)를 내림차순으로 정렬하여 저장\n",
    "df2 = df.sort_values(by=['modelYear(출시년도)'],axis=0, ascending=False).copy()\n",
    "\n",
    "# 정렬된 데이터 df2 > auto-mpg-3.csv로 저장\n",
    "df2.to_csv(\"C:/Users/user/Desktop/파뿌리/5주차QUEST_데이터셋/auto-mpg-3.csv\",  encoding='utf-8-sig', index=False)\n"
   ]
  },
  {
   "cell_type": "markdown",
   "id": "c7e76acc-43d6-424a-9af0-b044935ae9e1",
   "metadata": {},
   "source": [
    "<br>"
   ]
  },
  {
   "cell_type": "markdown",
   "id": "b308b5bd-a457-4aae-90c2-6a138551a089",
   "metadata": {},
   "source": [
    "> ### 3. 남북한발전전력량.xlsx 파일엔 남한과 북한의 발전전력별 연간통계량이 저장되어있다."
   ]
  },
  {
   "cell_type": "markdown",
   "id": "3fb1352f-fce1-4600-9038-3123a87baa86",
   "metadata": {},
   "source": [
    "- <b> 해당 데이터를 읽어와서 남한과 북한의 수력 및 화력발전과 그 합계에 대한 연간 통계량만을 분리해서 남북한수력및화력발전전력량.csv로 저장하라."
   ]
  },
  {
   "cell_type": "code",
   "execution_count": 20,
   "id": "ca080dea-ebb8-40f0-b7dc-d4bff466cc7f",
   "metadata": {},
   "outputs": [
    {
     "data": {
      "text/html": [
       "<div>\n",
       "<style scoped>\n",
       "    .dataframe tbody tr th:only-of-type {\n",
       "        vertical-align: middle;\n",
       "    }\n",
       "\n",
       "    .dataframe tbody tr th {\n",
       "        vertical-align: top;\n",
       "    }\n",
       "\n",
       "    .dataframe thead th {\n",
       "        text-align: right;\n",
       "    }\n",
       "</style>\n",
       "<table border=\"1\" class=\"dataframe\">\n",
       "  <thead>\n",
       "    <tr style=\"text-align: right;\">\n",
       "      <th></th>\n",
       "      <th>전력량 (억㎾h)</th>\n",
       "      <th>발전 전력별</th>\n",
       "      <th>1990</th>\n",
       "      <th>1991</th>\n",
       "      <th>1992</th>\n",
       "      <th>1993</th>\n",
       "      <th>1994</th>\n",
       "      <th>1995</th>\n",
       "      <th>1996</th>\n",
       "      <th>1997</th>\n",
       "      <th>...</th>\n",
       "      <th>2007</th>\n",
       "      <th>2008</th>\n",
       "      <th>2009</th>\n",
       "      <th>2010</th>\n",
       "      <th>2011</th>\n",
       "      <th>2012</th>\n",
       "      <th>2013</th>\n",
       "      <th>2014</th>\n",
       "      <th>2015</th>\n",
       "      <th>2016</th>\n",
       "    </tr>\n",
       "  </thead>\n",
       "  <tbody>\n",
       "    <tr>\n",
       "      <th>0</th>\n",
       "      <td>남한</td>\n",
       "      <td>합계</td>\n",
       "      <td>548</td>\n",
       "      <td>624</td>\n",
       "      <td>745</td>\n",
       "      <td>863</td>\n",
       "      <td>1063</td>\n",
       "      <td>1177</td>\n",
       "      <td>1316</td>\n",
       "      <td>1474</td>\n",
       "      <td>...</td>\n",
       "      <td>2601</td>\n",
       "      <td>2714</td>\n",
       "      <td>2858</td>\n",
       "      <td>3261</td>\n",
       "      <td>3421</td>\n",
       "      <td>3507</td>\n",
       "      <td>3665</td>\n",
       "      <td>3505</td>\n",
       "      <td>3460</td>\n",
       "      <td>3589</td>\n",
       "    </tr>\n",
       "    <tr>\n",
       "      <th>1</th>\n",
       "      <td>남한</td>\n",
       "      <td>수력</td>\n",
       "      <td>64</td>\n",
       "      <td>51</td>\n",
       "      <td>49</td>\n",
       "      <td>60</td>\n",
       "      <td>41</td>\n",
       "      <td>55</td>\n",
       "      <td>52</td>\n",
       "      <td>54</td>\n",
       "      <td>...</td>\n",
       "      <td>50</td>\n",
       "      <td>56</td>\n",
       "      <td>56</td>\n",
       "      <td>65</td>\n",
       "      <td>78</td>\n",
       "      <td>77</td>\n",
       "      <td>84</td>\n",
       "      <td>78</td>\n",
       "      <td>58</td>\n",
       "      <td>66</td>\n",
       "    </tr>\n",
       "    <tr>\n",
       "      <th>2</th>\n",
       "      <td>남한</td>\n",
       "      <td>화력</td>\n",
       "      <td>484</td>\n",
       "      <td>573</td>\n",
       "      <td>696</td>\n",
       "      <td>803</td>\n",
       "      <td>1022</td>\n",
       "      <td>1122</td>\n",
       "      <td>1264</td>\n",
       "      <td>1420</td>\n",
       "      <td>...</td>\n",
       "      <td>2551</td>\n",
       "      <td>2658</td>\n",
       "      <td>2802</td>\n",
       "      <td>3196</td>\n",
       "      <td>3343</td>\n",
       "      <td>3430</td>\n",
       "      <td>3581</td>\n",
       "      <td>3427</td>\n",
       "      <td>3402</td>\n",
       "      <td>3523</td>\n",
       "    </tr>\n",
       "    <tr>\n",
       "      <th>3</th>\n",
       "      <td>북한</td>\n",
       "      <td>합계</td>\n",
       "      <td>277</td>\n",
       "      <td>263</td>\n",
       "      <td>247</td>\n",
       "      <td>221</td>\n",
       "      <td>231</td>\n",
       "      <td>230</td>\n",
       "      <td>213</td>\n",
       "      <td>193</td>\n",
       "      <td>...</td>\n",
       "      <td>236</td>\n",
       "      <td>255</td>\n",
       "      <td>235</td>\n",
       "      <td>237</td>\n",
       "      <td>211</td>\n",
       "      <td>215</td>\n",
       "      <td>221</td>\n",
       "      <td>216</td>\n",
       "      <td>190</td>\n",
       "      <td>239</td>\n",
       "    </tr>\n",
       "    <tr>\n",
       "      <th>4</th>\n",
       "      <td>북한</td>\n",
       "      <td>수력</td>\n",
       "      <td>156</td>\n",
       "      <td>150</td>\n",
       "      <td>142</td>\n",
       "      <td>133</td>\n",
       "      <td>138</td>\n",
       "      <td>142</td>\n",
       "      <td>125</td>\n",
       "      <td>107</td>\n",
       "      <td>...</td>\n",
       "      <td>133</td>\n",
       "      <td>141</td>\n",
       "      <td>125</td>\n",
       "      <td>134</td>\n",
       "      <td>132</td>\n",
       "      <td>135</td>\n",
       "      <td>139</td>\n",
       "      <td>130</td>\n",
       "      <td>100</td>\n",
       "      <td>128</td>\n",
       "    </tr>\n",
       "    <tr>\n",
       "      <th>5</th>\n",
       "      <td>북한</td>\n",
       "      <td>화력</td>\n",
       "      <td>121</td>\n",
       "      <td>113</td>\n",
       "      <td>105</td>\n",
       "      <td>88</td>\n",
       "      <td>93</td>\n",
       "      <td>88</td>\n",
       "      <td>88</td>\n",
       "      <td>86</td>\n",
       "      <td>...</td>\n",
       "      <td>103</td>\n",
       "      <td>114</td>\n",
       "      <td>110</td>\n",
       "      <td>103</td>\n",
       "      <td>79</td>\n",
       "      <td>80</td>\n",
       "      <td>82</td>\n",
       "      <td>86</td>\n",
       "      <td>90</td>\n",
       "      <td>111</td>\n",
       "    </tr>\n",
       "  </tbody>\n",
       "</table>\n",
       "<p>6 rows × 29 columns</p>\n",
       "</div>"
      ],
      "text/plain": [
       "  전력량 (억㎾h) 발전 전력별 1990 1991 1992 1993  1994  1995  1996  1997  ...  2007  \\\n",
       "0        남한     합계  548  624  745  863  1063  1177  1316  1474  ...  2601   \n",
       "1        남한     수력   64   51   49   60    41    55    52    54  ...    50   \n",
       "2        남한     화력  484  573  696  803  1022  1122  1264  1420  ...  2551   \n",
       "3        북한     합계  277  263  247  221   231   230   213   193  ...   236   \n",
       "4        북한     수력  156  150  142  133   138   142   125   107  ...   133   \n",
       "5        북한     화력  121  113  105   88    93    88    88    86  ...   103   \n",
       "\n",
       "   2008  2009  2010  2011  2012  2013  2014  2015  2016  \n",
       "0  2714  2858  3261  3421  3507  3665  3505  3460  3589  \n",
       "1    56    56    65    78    77    84    78    58    66  \n",
       "2  2658  2802  3196  3343  3430  3581  3427  3402  3523  \n",
       "3   255   235   237   211   215   221   216   190   239  \n",
       "4   141   125   134   132   135   139   130   100   128  \n",
       "5   114   110   103    79    80    82    86    90   111  \n",
       "\n",
       "[6 rows x 29 columns]"
      ]
     },
     "execution_count": 20,
     "metadata": {},
     "output_type": "execute_result"
    }
   ],
   "source": [
    "# 남북한발전전력량.xlsx파일  읽어오기\n",
    "df = pd.read_excel(\"남북한발전전력량.xlsx\")\n",
    "\n",
    "# 수력, 원자력을 제외한 열 삭제\n",
    "df.drop([3,4,8], axis=0, inplace=True)\n",
    "\n",
    "# 남한과 북한의 전력량을 구분 짓는 행 추가\n",
    "df['전력량 (억㎾h)'] = ['남한','남한','남한','북한','북한','북한']\n",
    "\n",
    "# 인덱스 추가\n",
    "df.index = [0,1,2,3,4,5]\n",
    "\n",
    "# 수력과 화력을 더한 값을 합계로 저장\n",
    "df.iloc[0][2:] = df.iloc[1][2:] + df.iloc[2][2:]\n",
    "df.iloc[3][2:] = df.iloc[4][2:] + df.iloc[5][2:]\n",
    "\n",
    "# 정렬된 데이터 df2 > 남북한수력및화력발전전력량.csv로 저장\n",
    "df.to_csv(\"남북한수력및화력발전전력량.csv\", index=None)\n",
    "\n",
    "df.tail(n=10)"
   ]
  },
  {
   "cell_type": "markdown",
   "id": "9fc02863-76a6-4b4a-84e3-a7b50826dcf2",
   "metadata": {},
   "source": [
    "> (질문입니다! / 미해결) <br>\n",
    "남한과 북한별 합계량을 수정하지 못했습니다.. 엑셀 파일 내에 남한과 북한의 수력, 화력 데이터가 함께 있어 특정 열과 열의 합을 구하는 방법을 모르겠습니다..!\n",
    "  df.sum() 함수를 사용해보았으나 남북한 총 합계만 계산되어 풀지 못했습니다..\n"
   ]
  },
  {
   "cell_type": "markdown",
   "id": "99d8d8c7-9502-46af-bbf6-a8677a0ffffe",
   "metadata": {},
   "source": [
    "<br>"
   ]
  },
  {
   "cell_type": "markdown",
   "id": "80d58559-e4e9-4525-8aa0-8c941f2423ce",
   "metadata": {},
   "source": [
    "> ### 4. 다음을 만족하는 20년 달력 데이터 프레임을 만드시오."
   ]
  },
  {
   "cell_type": "code",
   "execution_count": 36,
   "id": "523d59e5-53f4-4808-a0f6-ae560b8c14ef",
   "metadata": {},
   "outputs": [
    {
     "name": "stdout",
     "output_type": "stream",
     "text": [
      "     original  year  month  day weekday  weekend  season\n",
      "0    20-01-01  2020      1    1     Wed        0  winter\n",
      "1    20-01-02  2020      1    2     Thu        0  winter\n",
      "2    20-01-03  2020      1    3     Fri        0  winter\n",
      "3    20-01-04  2020      1    4     Sat        1  winter\n",
      "4    20-01-05  2020      1    5     Sun        1  winter\n",
      "..        ...   ...    ...  ...     ...      ...     ...\n",
      "361  20-12-27  2020     12   27     Sun        1  winter\n",
      "362  20-12-28  2020     12   28     Mon        0  winter\n",
      "363  20-12-29  2020     12   29     Tue        0  winter\n",
      "364  20-12-30  2020     12   30     Wed        0  winter\n",
      "365  20-12-31  2020     12   31     Thu        0  winter\n",
      "\n",
      "[366 rows x 7 columns]\n"
     ]
    }
   ],
   "source": [
    "# datetime 모듈임포트\n",
    "import datetime\n",
    "\n",
    "# datetime의 datetime클래스로 달력생성\n",
    "startDate = datetime.datetime(year=2020, month=1, day=1)\n",
    "\n",
    "# df = 달력을 저장할 변수\n",
    "df = []\n",
    "\n",
    "# dayer = datetime에 하루(1day)를 증가시키기 위한 변수\n",
    "dayer = datetime.timedelta(days=1)\n",
    "\n",
    "# while문 = 2021년 1월 1일 부터 달력생성\n",
    "while startDate != datetime.datetime(year=2021, month=1, day=1) :\n",
    "    # temp = 각 열을 추가할 빈 리스트\n",
    "    temp = []\n",
    "    \n",
    "    # 날짜, 연도, 월, 일, 주차, 요일, 휴일, 계절을 추가\n",
    "    temp.append(startDate.strftime(\"%y-%m-%d\"))\n",
    "    temp.append(startDate.year)\n",
    "    temp.append(startDate.month)\n",
    "    temp.append(startDate.day)\n",
    "    temp.append(startDate.strftime('%A')[0:3])\n",
    "    temp.append((lambda x : 1 if x == 5 or x == 6 else 0)(startDate.weekday()))\n",
    "    temp.append((lambda x : 'spring' if x == 2 else ('summer' if x == 3 else('autumn' if x == 4 else 'winter')))((startDate.month%12+3)//3))\n",
    "    \n",
    "    # df 에 temp 추가\n",
    "    df.append(temp)\n",
    "    \n",
    "    # starDate에 dayer(1일씩) 증가\n",
    "    startDate = startDate + dayer\n",
    "\n",
    "# 각 열의 속성에 맞게 행 추가\n",
    "df = pd.DataFrame(df, columns=[\"original\", \"year\", \"month\", \"day\", \"weekday\", \"weekend\", \"season\"])\n",
    "\n",
    "print(df)"
   ]
  },
  {
   "cell_type": "code",
   "execution_count": 34,
   "id": "7a608fc3-7aa3-4bea-9630-dcb9b9da167e",
   "metadata": {},
   "outputs": [
    {
     "name": "stdout",
     "output_type": "stream",
     "text": [
      "---------------------2020년 캘린더----------------------\n",
      "\n",
      "\n"
     ]
    },
    {
     "ename": "TypeError",
     "evalue": "'Series' object is not callable",
     "output_type": "error",
     "traceback": [
      "\u001b[1;31m---------------------------------------------------------------------------\u001b[0m",
      "\u001b[1;31mTypeError\u001b[0m                                 Traceback (most recent call last)",
      "\u001b[1;32m<ipython-input-34-1bb26643d7cf>\u001b[0m in \u001b[0;36m<module>\u001b[1;34m\u001b[0m\n\u001b[0;32m     54\u001b[0m \u001b[0mprint\u001b[0m\u001b[1;33m(\u001b[0m\u001b[1;34m\"---------------------2020년 캘린더----------------------\"\u001b[0m\u001b[1;33m)\u001b[0m\u001b[1;33m\u001b[0m\u001b[1;33m\u001b[0m\u001b[0m\n\u001b[0;32m     55\u001b[0m \u001b[0mprint\u001b[0m\u001b[1;33m(\u001b[0m\u001b[1;34m\"\\n\"\u001b[0m\u001b[1;33m)\u001b[0m\u001b[1;33m\u001b[0m\u001b[1;33m\u001b[0m\u001b[0m\n\u001b[1;32m---> 56\u001b[1;33m \u001b[0mcreate_date_table3\u001b[0m\u001b[1;33m(\u001b[0m\u001b[1;33m)\u001b[0m\u001b[1;33m\u001b[0m\u001b[1;33m\u001b[0m\u001b[0m\n\u001b[0m",
      "\u001b[1;32m<ipython-input-34-1bb26643d7cf>\u001b[0m in \u001b[0;36mcreate_date_table3\u001b[1;34m(start, end)\u001b[0m\n\u001b[0;32m     16\u001b[0m     \u001b[0mdf\u001b[0m\u001b[1;33m[\u001b[0m\u001b[1;34m\"Day\"\u001b[0m\u001b[1;33m]\u001b[0m \u001b[1;33m=\u001b[0m \u001b[0mdf\u001b[0m\u001b[1;33m.\u001b[0m\u001b[0moriginal\u001b[0m\u001b[1;33m.\u001b[0m\u001b[0mdt\u001b[0m\u001b[1;33m.\u001b[0m\u001b[0mday\u001b[0m\u001b[1;33m\u001b[0m\u001b[1;33m\u001b[0m\u001b[0m\n\u001b[0;32m     17\u001b[0m     \u001b[0mdf\u001b[0m\u001b[1;33m[\u001b[0m\u001b[1;34m\"weekday\"\u001b[0m\u001b[1;33m]\u001b[0m \u001b[1;33m=\u001b[0m \u001b[0mdf\u001b[0m\u001b[1;33m.\u001b[0m\u001b[0moriginal\u001b[0m\u001b[1;33m.\u001b[0m\u001b[0mdt\u001b[0m\u001b[1;33m.\u001b[0m\u001b[0mday_name\u001b[0m\u001b[1;33m(\u001b[0m\u001b[1;33m)\u001b[0m\u001b[1;33m\u001b[0m\u001b[1;33m\u001b[0m\u001b[0m\n\u001b[1;32m---> 18\u001b[1;33m     \u001b[0mdf\u001b[0m\u001b[1;33m[\u001b[0m\u001b[1;34m\"weekend\"\u001b[0m\u001b[1;33m]\u001b[0m \u001b[1;33m=\u001b[0m \u001b[0mdf\u001b[0m\u001b[1;33m.\u001b[0m\u001b[0moriginal\u001b[0m\u001b[1;33m.\u001b[0m\u001b[0mdt\u001b[0m\u001b[1;33m.\u001b[0m\u001b[0mweekday\u001b[0m\u001b[1;33m(\u001b[0m\u001b[1;33m)\u001b[0m\u001b[1;33m\u001b[0m\u001b[1;33m\u001b[0m\u001b[0m\n\u001b[0m\u001b[0;32m     19\u001b[0m     \u001b[1;31m#df[\"season\"] = (df.original.dt.month%12 + 3)//3\u001b[0m\u001b[1;33m\u001b[0m\u001b[1;33m\u001b[0m\u001b[1;33m\u001b[0m\u001b[0m\n\u001b[0;32m     20\u001b[0m \u001b[1;33m\u001b[0m\u001b[0m\n",
      "\u001b[1;31mTypeError\u001b[0m: 'Series' object is not callable"
     ]
    }
   ],
   "source": [
    "# datetime 모듈의 date, datetime 클래스 임포트\n",
    "from datetime import date, datetime\n",
    "\n",
    "# create_date_table() 함수 = 달력 생성 함수\n",
    "# start, end = 인자 값으로 달력 생성 범위(start ~ end) 지정\n",
    "def create_date_table3(start='2020-01-01', end='2020-12-31'):\n",
    "     \n",
    "    # (1) date_range() = 지정 범위(start ~ end)의 날짜 데이터 배열 생성\n",
    "    # (2) df = data_range() 함수를 통해 생성한 날짜 데이터 배열을 datatime 형태로 변환, original 칼럼으로 추가\n",
    "    df = pd.DataFrame({\"original\": pd.date_range(start, end)})\n",
    "    \n",
    "    # 날짜를 저장한 original 칼럼에 dt.year(), month(), day(), day_name(), isocalendar().week 메소드 적용\n",
    "    # 각각의 칼럼으로 값 추가\n",
    "    df[\"Year\"] = df.original.dt.year\n",
    "    df[\"Month\"] = df.original.dt.month\n",
    "    df[\"Day\"] = df.original.dt.day\n",
    "    df[\"weekday\"] = df.original.dt.day_name()\n",
    "    df[\"weekend\"] = df.original.dt.weekday()\n",
    "    #df[\"season\"] = (df.original.dt.month%12 + 3)//3 \n",
    "    \n",
    "    # Y = 달력 해당 연도\n",
    "    Y = 2020\n",
    "    \n",
    "    # seasons = 리스트안에 계절별 튜플을 설정\n",
    "    seasons = [('winter', (date(Y,  1,  1),  date(Y,  2, 29))),\n",
    "               # 2020년은 '윤년' 이므로 1월 1일 ~ 2월 29일 => 겨울( winter )\n",
    "               \n",
    "               ('spring', (date(Y,  3,  1),  date(Y,  5, 31))),\n",
    "                # 3월 1일 ~ 5월 31일 => 봄( spring )\n",
    "               \n",
    "               ('summer', (date(Y,  6,  1),  date(Y,  8, 31))),\n",
    "                # 6월 1일 ~ 8월 31일 => 여름( summer )\n",
    "               \n",
    "               ('autumn', (date(Y,  9,  1),  date(Y, 11, 30))),\n",
    "               # 9월 1일 ~ 11월 30일 => 가을( autumn )\n",
    "               \n",
    "               ('winter', (date(Y, 12,  1),  date(Y, 12, 31)))]\n",
    "                # 12월 1일 ~ 12월 31일 => 겨울( winter )\n",
    "    \n",
    "    # get_season() 함수 = datetime 모듈과 date 클래스를 통해 날짜를 불러온 뒤, seasons 리스트 내의 튜플의 값과 비교하여 해당하는 계절을 반환 \n",
    "    def get_season(now):\n",
    "        if isinstance(now, datetime):\n",
    "            now = now.date()\n",
    "            now = now.replace(year=Y)\n",
    "            return next(season for season, (start, end) in seasons\n",
    "                        if start <= now <= end)\n",
    "        \n",
    "        \n",
    "    # season 칼럼에 get_season() 함수를 적용하여 추가\n",
    "    df[\"season\"] = df[\"original\"].apply(get_season)\n",
    "    return df\n",
    "\n",
    "# 캘린더 출력\n",
    "print(\"---------------------2020년 캘린더----------------------\")\n",
    "print(\"\\n\")\n",
    "create_date_table3()\n"
   ]
  },
  {
   "cell_type": "markdown",
   "id": "75d38e12-8f97-488f-b008-24e619319d5b",
   "metadata": {},
   "source": [
    "> (질문입니다 !)<br>\n",
    "  season를 구분하는 코드를 짜기가 어려워 구글링을 통해 \n",
    "    \n",
    "   "
   ]
  },
  {
   "cell_type": "markdown",
   "id": "7217baf6-664e-4b8c-be75-e3ed731e1187",
   "metadata": {},
   "source": [
    "> -----------------------------------------------------\n",
    "     def get_season(now):\n",
    "        if isinstance(now, datetime):\n",
    "            now = now.date()\n",
    "            now = now.replace(year=Y)\n",
    "            return next(season for season, (start, end) in seasons\n",
    "                        if start <= now <= end)\n",
    "    df[\"season\"] = df[\"original\"].apply(get_season)"
   ]
  },
  {
   "cell_type": "markdown",
   "id": "9aa82fc6-9ea2-4e53-bc33-049ad8afb2d5",
   "metadata": {},
   "source": [
    "> ---------------------------------"
   ]
  },
  {
   "cell_type": "markdown",
   "id": "4dc11b25-61a0-41db-8138-e7bf03d1622a",
   "metadata": {},
   "source": [
    "> 해당 get_season() 함수를 찾아 적용은 했으나, isinstance() 함수와 return 값 부분이 잘 이해가지 않아 일단 적용만 했습니다 ,,"
   ]
  },
  {
   "cell_type": "code",
   "execution_count": null,
   "id": "2b29bbee-f4ca-46a2-8192-c3e0b41c5f2d",
   "metadata": {},
   "outputs": [],
   "source": [
    " "
   ]
  }
 ],
 "metadata": {
  "kernelspec": {
   "display_name": "Python 3",
   "language": "python",
   "name": "python3"
  },
  "language_info": {
   "codemirror_mode": {
    "name": "ipython",
    "version": 3
   },
   "file_extension": ".py",
   "mimetype": "text/x-python",
   "name": "python",
   "nbconvert_exporter": "python",
   "pygments_lexer": "ipython3",
   "version": "3.7.11"
  }
 },
 "nbformat": 4,
 "nbformat_minor": 5
}
